{
 "cells": [
  {
   "cell_type": "markdown",
   "id": "01c6d3ec-ba45-4008-8340-0957a0bf9bd2",
   "metadata": {},
   "source": [
    "This notebook implements an experimental idea: get parallel wikipedia pages (i.e. a page in Bavarian and a page in German), apply pre-trained NER models to German texts and check, if the same NE are mentioned in Bavarian"
   ]
  },
  {
   "cell_type": "markdown",
   "id": "d8f4cf12-67b1-4ba7-8dba-c1a9304f556f",
   "metadata": {},
   "source": [
    "### 0. Install and import packages to process Wikipedia and for NER"
   ]
  },
  {
   "cell_type": "code",
   "execution_count": 10,
   "id": "07a0afb7-1e48-4240-aebf-ac8046b1f308",
   "metadata": {},
   "outputs": [],
   "source": [
    "# !pip3 install wikipedia-api caffeine"
   ]
  },
  {
   "cell_type": "code",
   "execution_count": 3,
   "id": "3180daad-1576-43e2-bb3a-e1701d50cc72",
   "metadata": {},
   "outputs": [],
   "source": [
    "import caffeine \n",
    "import wikipediaapi\n",
    "import glob\n",
    "import json\n",
    "import pandas as pd\n",
    "from tqdm import tqdm_notebook as tqdm \n",
    "\n",
    "from nltk.tokenize import sent_tokenize"
   ]
  },
  {
   "cell_type": "code",
   "execution_count": null,
   "id": "265b3dd8-ca3f-4e14-8b6e-1a8d0e37c819",
   "metadata": {},
   "outputs": [],
   "source": [
    "### 1. Extract page titles from Wikipedia dumps and store them "
   ]
  },
  {
   "cell_type": "code",
   "execution_count": 12,
   "id": "cd392774-b3bd-460e-9ba2-1f9b9ad5ec53",
   "metadata": {},
   "outputs": [
    {
     "name": "stderr",
     "output_type": "stream",
     "text": [
      "/var/folders/3w/tcst8pwx4457g1cnx7njx7_40000gn/T/ipykernel_40277/4132668364.py:9: TqdmDeprecationWarning: This function will be removed in tqdm==5.0.0\n",
      "Please use `tqdm.notebook.tqdm` instead of `tqdm.tqdm_notebook`\n",
      "  for filename in  tqdm(fnames, total=len(fnames)):\n"
     ]
    },
    {
     "data": {
      "application/vnd.jupyter.widget-view+json": {
       "model_id": "17498813a7c34139ad9cf98352740ead",
       "version_major": 2,
       "version_minor": 0
      },
      "text/plain": [
       "  0%|          | 0/27 [00:00<?, ?it/s]"
      ]
     },
     "metadata": {},
     "output_type": "display_data"
    }
   ],
   "source": [
    "def get_titles(title_file_out, wiki_dump_folder_in):\n",
    "    fnames = glob.glob(wiki_dump_folder_in)\n",
    "    with open(title_file_out, 'w', encoding='utf-8') as out_f:\n",
    "        for filename in  tqdm(fnames, total=len(fnames)):\n",
    "            filename=filename.replace(\"\\\\\",\"/\")\n",
    "            articles = []\n",
    "\n",
    "            for line in open(filename, 'r'):\n",
    "                try:\n",
    "                    articles.append(json.loads(line))\n",
    "                except:\n",
    "                    pass\n",
    "\n",
    "            for article in articles:\n",
    "                title = article['title']\n",
    "                out_f.write(title + '\\n')\n",
    "    return \n",
    "\n",
    "title_file_out='bar_wiki_titles.txt'\n",
    "wiki_dump_folder_in='bar_text/**/*'\n",
    "get_titles(title_file_out, wiki_dump_folder_in)"
   ]
  },
  {
   "cell_type": "code",
   "execution_count": 41,
   "id": "e2d66dc9-32c6-498f-97e6-671a9d66f834",
   "metadata": {},
   "outputs": [
    {
     "data": {
      "text/html": [
       "<div>\n",
       "<style scoped>\n",
       "    .dataframe tbody tr th:only-of-type {\n",
       "        vertical-align: middle;\n",
       "    }\n",
       "\n",
       "    .dataframe tbody tr th {\n",
       "        vertical-align: top;\n",
       "    }\n",
       "\n",
       "    .dataframe thead th {\n",
       "        text-align: right;\n",
       "    }\n",
       "</style>\n",
       "<table border=\"1\" class=\"dataframe\">\n",
       "  <thead>\n",
       "    <tr style=\"text-align: right;\">\n",
       "      <th></th>\n",
       "      <th>bar_title</th>\n",
       "      <th>de_title</th>\n",
       "    </tr>\n",
       "  </thead>\n",
       "  <tbody>\n",
       "    <tr>\n",
       "      <th>0</th>\n",
       "      <td>Indus Kuitua</td>\n",
       "      <td></td>\n",
       "    </tr>\n",
       "    <tr>\n",
       "      <th>1</th>\n",
       "      <td>Evoluzion vo da Menschheid</td>\n",
       "      <td></td>\n",
       "    </tr>\n",
       "    <tr>\n",
       "      <th>2</th>\n",
       "      <td>Konsul</td>\n",
       "      <td></td>\n",
       "    </tr>\n",
       "    <tr>\n",
       "      <th>3</th>\n",
       "      <td>Iwagreifands in da Gschicht</td>\n",
       "      <td></td>\n",
       "    </tr>\n",
       "    <tr>\n",
       "      <th>4</th>\n",
       "      <td>Audi Cup</td>\n",
       "      <td></td>\n",
       "    </tr>\n",
       "  </tbody>\n",
       "</table>\n",
       "</div>"
      ],
      "text/plain": [
       "                     bar_title de_title\n",
       "0                 Indus Kuitua         \n",
       "1   Evoluzion vo da Menschheid         \n",
       "2                       Konsul         \n",
       "3  Iwagreifands in da Gschicht         \n",
       "4                     Audi Cup         "
      ]
     },
     "execution_count": 41,
     "metadata": {},
     "output_type": "execute_result"
    }
   ],
   "source": [
    "import pandas as pd \n",
    "bar_titles = open(title_file_out).readlines()\n",
    "bar_titles = [title.strip() for title in bar_titles]\n",
    "df = pd.DataFrame (bar_titles, columns = ['bar_title'])\n",
    "df['de_title'] = ''\n",
    "df.head()"
   ]
  },
  {
   "cell_type": "code",
   "execution_count": null,
   "id": "25a72ee3-28cb-466b-abd2-dcc334093ce9",
   "metadata": {},
   "outputs": [],
   "source": [
    "### 2. Use language links in wikipedia to get acess to same pages in German, collect titles in German and store them "
   ]
  },
  {
   "cell_type": "code",
   "execution_count": 43,
   "id": "598e799f-f475-4604-af1c-1ede59749105",
   "metadata": {},
   "outputs": [
    {
     "name": "stderr",
     "output_type": "stream",
     "text": [
      "/var/folders/3w/tcst8pwx4457g1cnx7njx7_40000gn/T/ipykernel_40277/2436472977.py:2: TqdmDeprecationWarning: This function will be removed in tqdm==5.0.0\n",
      "Please use `tqdm.notebook.tqdm` instead of `tqdm.tqdm_notebook`\n",
      "  for idx, row in tqdm(df.iterrows(), total = len(df)):\n"
     ]
    },
    {
     "data": {
      "application/vnd.jupyter.widget-view+json": {
       "model_id": "91344474eae24c51831977b71123d03e",
       "version_major": 2,
       "version_minor": 0
      },
      "text/plain": [
       "  0%|          | 0/43415 [00:00<?, ?it/s]"
      ]
     },
     "metadata": {},
     "output_type": "display_data"
    }
   ],
   "source": [
    "wiki = wikipediaapi.Wikipedia('bar')\n",
    "for idx, row in tqdm(df.iterrows(), total = len(df)):\n",
    "    page = wiki.page(row.bar_title)\n",
    "    try:\n",
    "        page_de = page.langlinks['de']\n",
    "        row.de_title = page_de.title\n",
    "    except:\n",
    "        pass\n",
    "   "
   ]
  },
  {
   "cell_type": "code",
   "execution_count": 44,
   "id": "6852576a-48de-4910-8cdd-330fb6c3a167",
   "metadata": {},
   "outputs": [
    {
     "data": {
      "text/html": [
       "<div>\n",
       "<style scoped>\n",
       "    .dataframe tbody tr th:only-of-type {\n",
       "        vertical-align: middle;\n",
       "    }\n",
       "\n",
       "    .dataframe tbody tr th {\n",
       "        vertical-align: top;\n",
       "    }\n",
       "\n",
       "    .dataframe thead th {\n",
       "        text-align: right;\n",
       "    }\n",
       "</style>\n",
       "<table border=\"1\" class=\"dataframe\">\n",
       "  <thead>\n",
       "    <tr style=\"text-align: right;\">\n",
       "      <th></th>\n",
       "      <th>bar_title</th>\n",
       "      <th>de_title</th>\n",
       "    </tr>\n",
       "  </thead>\n",
       "  <tbody>\n",
       "    <tr>\n",
       "      <th>0</th>\n",
       "      <td>Indus Kuitua</td>\n",
       "      <td>Indus-Kultur</td>\n",
       "    </tr>\n",
       "    <tr>\n",
       "      <th>1</th>\n",
       "      <td>Evoluzion vo da Menschheid</td>\n",
       "      <td>Stammesgeschichte des Menschen</td>\n",
       "    </tr>\n",
       "    <tr>\n",
       "      <th>2</th>\n",
       "      <td>Konsul</td>\n",
       "      <td>Konsul</td>\n",
       "    </tr>\n",
       "    <tr>\n",
       "      <th>3</th>\n",
       "      <td>Iwagreifands in da Gschicht</td>\n",
       "      <td></td>\n",
       "    </tr>\n",
       "    <tr>\n",
       "      <th>4</th>\n",
       "      <td>Audi Cup</td>\n",
       "      <td>Audi Cup</td>\n",
       "    </tr>\n",
       "    <tr>\n",
       "      <th>...</th>\n",
       "      <td>...</td>\n",
       "      <td>...</td>\n",
       "    </tr>\n",
       "    <tr>\n",
       "      <th>43410</th>\n",
       "      <td>Middlmeea</td>\n",
       "      <td></td>\n",
       "    </tr>\n",
       "    <tr>\n",
       "      <th>43411</th>\n",
       "      <td>Tz</td>\n",
       "      <td></td>\n",
       "    </tr>\n",
       "    <tr>\n",
       "      <th>43412</th>\n",
       "      <td>Dreißgjaariga Kriag</td>\n",
       "      <td></td>\n",
       "    </tr>\n",
       "    <tr>\n",
       "      <th>43413</th>\n",
       "      <td>Hans Magnus Enzensberger</td>\n",
       "      <td></td>\n",
       "    </tr>\n",
       "    <tr>\n",
       "      <th>43414</th>\n",
       "      <td>Münchner Merkur</td>\n",
       "      <td></td>\n",
       "    </tr>\n",
       "  </tbody>\n",
       "</table>\n",
       "<p>43415 rows × 2 columns</p>\n",
       "</div>"
      ],
      "text/plain": [
       "                         bar_title                        de_title\n",
       "0                     Indus Kuitua                    Indus-Kultur\n",
       "1       Evoluzion vo da Menschheid  Stammesgeschichte des Menschen\n",
       "2                           Konsul                          Konsul\n",
       "3      Iwagreifands in da Gschicht                                \n",
       "4                         Audi Cup                        Audi Cup\n",
       "...                            ...                             ...\n",
       "43410                    Middlmeea                                \n",
       "43411                           Tz                                \n",
       "43412          Dreißgjaariga Kriag                                \n",
       "43413     Hans Magnus Enzensberger                                \n",
       "43414              Münchner Merkur                                \n",
       "\n",
       "[43415 rows x 2 columns]"
      ]
     },
     "execution_count": 44,
     "metadata": {},
     "output_type": "execute_result"
    }
   ],
   "source": [
    "df"
   ]
  },
  {
   "cell_type": "code",
   "execution_count": 48,
   "id": "aa157a31-4e35-4092-b35e-64de5def69a6",
   "metadata": {},
   "outputs": [],
   "source": [
    "df = df[df.de_title != '']"
   ]
  },
  {
   "cell_type": "code",
   "execution_count": 51,
   "id": "5c22d023-0e2f-4fa7-b97c-356412ad9cb0",
   "metadata": {},
   "outputs": [
    {
     "data": {
      "text/plain": [
       "(9887, 13811)"
      ]
     },
     "execution_count": 51,
     "metadata": {},
     "output_type": "execute_result"
    }
   ],
   "source": [
    "len(df.de_title.unique()), len(df.bar_title.unique())"
   ]
  },
  {
   "cell_type": "code",
   "execution_count": null,
   "id": "7606416a-1136-454b-93cc-4083694382c2",
   "metadata": {},
   "outputs": [],
   "source": [
    "### 4. Extract texts from wikipedia dumps "
   ]
  },
  {
   "cell_type": "code",
   "execution_count": 63,
   "id": "19f88665-e6e0-4e8a-9930-cd7eaf76780c",
   "metadata": {},
   "outputs": [],
   "source": [
    "def get_text(titles, wiki_dump_folder_in):\n",
    "    fnames = glob.glob(wiki_dump_folder_in)\n",
    "    l = []\n",
    "    with open(title_file_out, 'w', encoding='utf-8') as out_f:\n",
    "        for filename in  tqdm(fnames, total=len(fnames)):\n",
    "            filename=filename.replace(\"\\\\\",\"/\")\n",
    "            articles = []\n",
    "\n",
    "            for line in open(filename, 'r'):\n",
    "                try:\n",
    "                    articles.append(json.loads(line))\n",
    "                except:\n",
    "                    pass\n",
    "\n",
    "            for article in articles:\n",
    "                title = article['title']\n",
    "                if title in titles:\n",
    "                    l.append([title, article['text']])\n",
    "    return l"
   ]
  },
  {
   "cell_type": "code",
   "execution_count": 77,
   "id": "bce9b2df-a046-4e84-87e8-45ec38ca14cd",
   "metadata": {},
   "outputs": [
    {
     "name": "stderr",
     "output_type": "stream",
     "text": [
      "/var/folders/3w/tcst8pwx4457g1cnx7njx7_40000gn/T/ipykernel_40277/3042380256.py:5: TqdmDeprecationWarning: This function will be removed in tqdm==5.0.0\n",
      "Please use `tqdm.notebook.tqdm` instead of `tqdm.tqdm_notebook`\n",
      "  for filename in  tqdm(fnames, total=len(fnames)):\n"
     ]
    },
    {
     "data": {
      "application/vnd.jupyter.widget-view+json": {
       "model_id": "ffcb79c560aa4272b8817061aba8e94b",
       "version_major": 2,
       "version_minor": 0
      },
      "text/plain": [
       "  0%|          | 0/27 [00:00<?, ?it/s]"
      ]
     },
     "metadata": {},
     "output_type": "display_data"
    }
   ],
   "source": [
    "lang = 'bar'\n",
    "wiki_dump_folder_in=f'{lang}_text/text/**/*'\n",
    "x = get_text(df[f'{lang}_title'].tolist(), wiki_dump_folder_in) \n",
    "df_text = pd.DataFrame.from_records(x, columns = [f'{lang}_title', f'{lang}_text'])\n",
    "df = df.merge(df_text, on = f'{lang}_title')"
   ]
  },
  {
   "cell_type": "code",
   "execution_count": 80,
   "id": "60725dbc-3d30-43dc-80a3-cc9f62aac369",
   "metadata": {},
   "outputs": [
    {
     "name": "stderr",
     "output_type": "stream",
     "text": [
      "/var/folders/3w/tcst8pwx4457g1cnx7njx7_40000gn/T/ipykernel_40277/3042380256.py:5: TqdmDeprecationWarning: This function will be removed in tqdm==5.0.0\n",
      "Please use `tqdm.notebook.tqdm` instead of `tqdm.tqdm_notebook`\n",
      "  for filename in  tqdm(fnames, total=len(fnames)):\n"
     ]
    },
    {
     "data": {
      "application/vnd.jupyter.widget-view+json": {
       "model_id": "40ed5cf2873f4a86ba2332a0ae43e824",
       "version_major": 2,
       "version_minor": 0
      },
      "text/plain": [
       "  0%|          | 0/7370 [00:00<?, ?it/s]"
      ]
     },
     "metadata": {},
     "output_type": "display_data"
    }
   ],
   "source": [
    "lang = 'de'\n",
    "wiki_dump_folder_in=f'{lang}_text/**/*'\n",
    "x = get_text(df[f'{lang}_title'].tolist(), wiki_dump_folder_in) \n",
    "df_text = pd.DataFrame.from_records(x, columns = [f'{lang}_title', f'{lang}_text'])\n",
    "df = df.merge(df_text, on = f'{lang}_title')"
   ]
  },
  {
   "cell_type": "code",
   "execution_count": 95,
   "id": "27456e9f-98b0-4b84-b1bb-7a4c0c71c283",
   "metadata": {},
   "outputs": [],
   "source": [
    "df = df[(df.bar_text != '') & (df.de_text != '')]\n",
    "df.to_csv('bar_de_texts.csv')"
   ]
  },
  {
   "cell_type": "code",
   "execution_count": 5,
   "id": "ac610e70-ef82-41f2-917c-940560ab3e92",
   "metadata": {},
   "outputs": [
    {
     "data": {
      "text/html": [
       "<div>\n",
       "<style scoped>\n",
       "    .dataframe tbody tr th:only-of-type {\n",
       "        vertical-align: middle;\n",
       "    }\n",
       "\n",
       "    .dataframe tbody tr th {\n",
       "        vertical-align: top;\n",
       "    }\n",
       "\n",
       "    .dataframe thead th {\n",
       "        text-align: right;\n",
       "    }\n",
       "</style>\n",
       "<table border=\"1\" class=\"dataframe\">\n",
       "  <thead>\n",
       "    <tr style=\"text-align: right;\">\n",
       "      <th></th>\n",
       "      <th>bar_title</th>\n",
       "      <th>de_title</th>\n",
       "      <th>bar_text</th>\n",
       "      <th>de_text</th>\n",
       "    </tr>\n",
       "  </thead>\n",
       "  <tbody>\n",
       "    <tr>\n",
       "      <th>0</th>\n",
       "      <td>Indus Kuitua</td>\n",
       "      <td>Indus-Kultur</td>\n",
       "      <td>De Indus Kuitua, dt.: Indus-Kultur, aa Harappa...</td>\n",
       "      <td>Die bronzezeitliche Indus-Kultur, auch \"Indus-...</td>\n",
       "    </tr>\n",
       "    <tr>\n",
       "      <th>1</th>\n",
       "      <td>Evoluzion vo da Menschheid</td>\n",
       "      <td>Stammesgeschichte des Menschen</td>\n",
       "      <td>In da Evoluzion vo da Menschheid, dt. Evolutio...</td>\n",
       "      <td>Als Stammesgeschichte des Menschen wird das du...</td>\n",
       "    </tr>\n",
       "    <tr>\n",
       "      <th>3</th>\n",
       "      <td>Konsul</td>\n",
       "      <td>Konsul</td>\n",
       "      <td>Da Konsul (Pl.: Konsuln) is a Amtspeason, wejc...</td>\n",
       "      <td>Der Konsul (Plural: Konsuln, abgeleitet vom la...</td>\n",
       "    </tr>\n",
       "    <tr>\n",
       "      <th>4</th>\n",
       "      <td>Audi Cup</td>\n",
       "      <td>Audi Cup</td>\n",
       "      <td>Da Audi Cup is a regelmäßigs zwoadaagegs Fuaßb...</td>\n",
       "      <td>Der Audi Cup ist ein seit 2009 alle zwei Jahre...</td>\n",
       "    </tr>\n",
       "    <tr>\n",
       "      <th>7</th>\n",
       "      <td>Biologie und Genetik vo de Menschn</td>\n",
       "      <td>Hominisation</td>\n",
       "      <td>In da Biologie und Genetik vo de Menschn, dt. ...</td>\n",
       "      <td>Als Hominisation (auch Anthropogenese, selten ...</td>\n",
       "    </tr>\n",
       "  </tbody>\n",
       "</table>\n",
       "</div>"
      ],
      "text/plain": [
       "                            bar_title                        de_title  \\\n",
       "0                        Indus Kuitua                    Indus-Kultur   \n",
       "1          Evoluzion vo da Menschheid  Stammesgeschichte des Menschen   \n",
       "3                              Konsul                          Konsul   \n",
       "4                            Audi Cup                        Audi Cup   \n",
       "7  Biologie und Genetik vo de Menschn                    Hominisation   \n",
       "\n",
       "                                            bar_text  \\\n",
       "0  De Indus Kuitua, dt.: Indus-Kultur, aa Harappa...   \n",
       "1  In da Evoluzion vo da Menschheid, dt. Evolutio...   \n",
       "3  Da Konsul (Pl.: Konsuln) is a Amtspeason, wejc...   \n",
       "4  Da Audi Cup is a regelmäßigs zwoadaagegs Fuaßb...   \n",
       "7  In da Biologie und Genetik vo de Menschn, dt. ...   \n",
       "\n",
       "                                             de_text  \n",
       "0  Die bronzezeitliche Indus-Kultur, auch \"Indus-...  \n",
       "1  Als Stammesgeschichte des Menschen wird das du...  \n",
       "3  Der Konsul (Plural: Konsuln, abgeleitet vom la...  \n",
       "4  Der Audi Cup ist ein seit 2009 alle zwei Jahre...  \n",
       "7  Als Hominisation (auch Anthropogenese, selten ...  "
      ]
     },
     "execution_count": 5,
     "metadata": {},
     "output_type": "execute_result"
    }
   ],
   "source": [
    "# resulting data frame\n",
    "df = pd.read_csv('bar_de_texts.csv', index_col = 0)\n",
    "df.head()"
   ]
  },
  {
   "cell_type": "code",
   "execution_count": null,
   "id": "0b783c1b-28d8-44c1-9324-d492a38de687",
   "metadata": {},
   "outputs": [],
   "source": [
    "### 5. Apply pre-trained NER models to texts in Bavarish and German "
   ]
  },
  {
   "cell_type": "code",
   "execution_count": 6,
   "id": "3059e386-6d68-482b-8e3c-70467e0a61e9",
   "metadata": {},
   "outputs": [
    {
     "name": "stderr",
     "output_type": "stream",
     "text": [
      "/opt/homebrew/lib/python3.10/site-packages/transformers/pipelines/token_classification.py:135: UserWarning: `grouped_entities` is deprecated and will be removed in version v5.0.0, defaulted to `aggregation_strategy=\"simple\"` instead.\n",
      "  warnings.warn(\n"
     ]
    }
   ],
   "source": [
    "from transformers import AutoTokenizer, AutoModelForTokenClassification\n",
    "from transformers import pipeline\n",
    "\n",
    "tokenizer = AutoTokenizer.from_pretrained(\"Babelscape/wikineural-multilingual-ner\")\n",
    "model = AutoModelForTokenClassification.from_pretrained(\"Babelscape/wikineural-multilingual-ner\")\n",
    "\n",
    "nlp = pipeline(\"ner\", model=model, tokenizer=tokenizer, grouped_entities=True)"
   ]
  },
  {
   "cell_type": "code",
   "execution_count": 7,
   "id": "ab865a09-91ae-4a64-b138-504c271b7030",
   "metadata": {},
   "outputs": [
    {
     "name": "stderr",
     "output_type": "stream",
     "text": [
      "/var/folders/3w/tcst8pwx4457g1cnx7njx7_40000gn/T/ipykernel_41464/3438626940.py:5: TqdmDeprecationWarning: This function will be removed in tqdm==5.0.0\n",
      "Please use `tqdm.notebook.tqdm` instead of `tqdm.tqdm_notebook`\n",
      "  for idx, row in tqdm(df.iterrows(), total = len(df)):\n"
     ]
    },
    {
     "data": {
      "application/vnd.jupyter.widget-view+json": {
       "model_id": "d3086b0bad16436b9355bc897ac60cf3",
       "version_major": 2,
       "version_minor": 0
      },
      "text/plain": [
       "  0%|          | 0/8833 [00:00<?, ?it/s]"
      ]
     },
     "metadata": {},
     "output_type": "display_data"
    }
   ],
   "source": [
    "lang = 'de'\n",
    "\n",
    "df[f'{lang}_sent'] = df[f'{lang}_text'].apply(sent_tokenize)\n",
    "df[f'{lang}_ner_results'] = ''\n",
    "for idx, row in tqdm(df.iterrows(), total = len(df)):\n",
    "    l = []\n",
    "    for sent in row[f'{lang}_sent']:\n",
    "        l.append([ne['word'] for ne in nlp(sent)])\n",
    "    row[f'{lang}_ner_results'] = l\n",
    "\n",
    "df.to_csv(f'bar_de_texts_ne_{lang}.csv')"
   ]
  },
  {
   "cell_type": "code",
   "execution_count": 8,
   "id": "9a6fcfe5-bedb-4648-a146-153f36f7f894",
   "metadata": {},
   "outputs": [
    {
     "name": "stderr",
     "output_type": "stream",
     "text": [
      "/var/folders/3w/tcst8pwx4457g1cnx7njx7_40000gn/T/ipykernel_41464/1029970254.py:5: TqdmDeprecationWarning: This function will be removed in tqdm==5.0.0\n",
      "Please use `tqdm.notebook.tqdm` instead of `tqdm.tqdm_notebook`\n",
      "  for idx, row in tqdm(df.iterrows(), total = len(df)):\n"
     ]
    },
    {
     "data": {
      "application/vnd.jupyter.widget-view+json": {
       "model_id": "b6f8cce79a7746d89bb04cffa3b1cf86",
       "version_major": 2,
       "version_minor": 0
      },
      "text/plain": [
       "  0%|          | 0/8833 [00:00<?, ?it/s]"
      ]
     },
     "metadata": {},
     "output_type": "display_data"
    }
   ],
   "source": [
    "lang = 'bar'\n",
    "\n",
    "df[f'{lang}_sent'] = df[f'{lang}_text'].apply(sent_tokenize)\n",
    "df[f'{lang}_ner_results'] = ''\n",
    "for idx, row in tqdm(df.iterrows(), total = len(df)):\n",
    "    l = []\n",
    "    for sent in row[f'{lang}_sent']:\n",
    "        l.append([ne['word'] for ne in nlp(sent)])\n",
    "    row[f'{lang}_ner_results'] = l\n",
    "\n",
    "df.to_csv(f'bar_de_texts_ne_{lang}.csv')"
   ]
  },
  {
   "cell_type": "code",
   "execution_count": 9,
   "id": "577286b8-cd2d-43f3-9cd6-5fd0642cdda4",
   "metadata": {},
   "outputs": [
    {
     "data": {
      "text/html": [
       "<div>\n",
       "<style scoped>\n",
       "    .dataframe tbody tr th:only-of-type {\n",
       "        vertical-align: middle;\n",
       "    }\n",
       "\n",
       "    .dataframe tbody tr th {\n",
       "        vertical-align: top;\n",
       "    }\n",
       "\n",
       "    .dataframe thead th {\n",
       "        text-align: right;\n",
       "    }\n",
       "</style>\n",
       "<table border=\"1\" class=\"dataframe\">\n",
       "  <thead>\n",
       "    <tr style=\"text-align: right;\">\n",
       "      <th></th>\n",
       "      <th>bar_title</th>\n",
       "      <th>de_title</th>\n",
       "      <th>bar_text</th>\n",
       "      <th>de_text</th>\n",
       "      <th>de_sent</th>\n",
       "      <th>de_ner_results</th>\n",
       "      <th>bar_sent</th>\n",
       "      <th>bar_ner_results</th>\n",
       "    </tr>\n",
       "  </thead>\n",
       "  <tbody>\n",
       "    <tr>\n",
       "      <th>0</th>\n",
       "      <td>Indus Kuitua</td>\n",
       "      <td>Indus-Kultur</td>\n",
       "      <td>De Indus Kuitua, dt.: Indus-Kultur, aa Harappa...</td>\n",
       "      <td>Die bronzezeitliche Indus-Kultur, auch \"Indus-...</td>\n",
       "      <td>[Die bronzezeitliche Indus-Kultur, auch \"Indus...</td>\n",
       "      <td>[[], [], [Indus, ind], [Pakistan, Indiens, Afg...</td>\n",
       "      <td>[De Indus Kuitua, dt., : Indus-Kultur, aa Hara...</td>\n",
       "      <td>[[Indus Kuitua], [Indus, Harappa Kuitua, ind],...</td>\n",
       "    </tr>\n",
       "    <tr>\n",
       "      <th>1</th>\n",
       "      <td>Evoluzion vo da Menschheid</td>\n",
       "      <td>Stammesgeschichte des Menschen</td>\n",
       "      <td>In da Evoluzion vo da Menschheid, dt. Evolutio...</td>\n",
       "      <td>Als Stammesgeschichte des Menschen wird das du...</td>\n",
       "      <td>[Als Stammesgeschichte des Menschen wird das d...</td>\n",
       "      <td>[[Homo, sapiens], [Sc], [Hominini], [T. H. Hux...</td>\n",
       "      <td>[In da Evoluzion vo da Menschheid, dt., Evolut...</td>\n",
       "      <td>[[Evoluzion vo da Menschheid], [Hominoidae], [...</td>\n",
       "    </tr>\n",
       "    <tr>\n",
       "      <th>3</th>\n",
       "      <td>Konsul</td>\n",
       "      <td>Konsul</td>\n",
       "      <td>Da Konsul (Pl.: Konsuln) is a Amtspeason, wejc...</td>\n",
       "      <td>Der Konsul (Plural: Konsuln, abgeleitet vom la...</td>\n",
       "      <td>[Der Konsul (Plural: Konsuln, abgeleitet vom l...</td>\n",
       "      <td>[[late, ##inischen, römischen], [Konsulat], [K...</td>\n",
       "      <td>[Da Konsul (Pl., : Konsuln) is a Amtspeason, w...</td>\n",
       "      <td>[[Ko, ##nsul], [Ko, ##nsul, ##n], [Remischn Re...</td>\n",
       "    </tr>\n",
       "    <tr>\n",
       "      <th>4</th>\n",
       "      <td>Audi Cup</td>\n",
       "      <td>Audi Cup</td>\n",
       "      <td>Da Audi Cup is a regelmäßigs zwoadaagegs Fuaßb...</td>\n",
       "      <td>Der Audi Cup ist ein seit 2009 alle zwei Jahre...</td>\n",
       "      <td>[Der Audi Cup ist ein seit 2009 alle zwei Jahr...</td>\n",
       "      <td>[[Audi Cup, Audi AG, Allianz Arena, München], ...</td>\n",
       "      <td>[Da Audi Cup is a regelmäßigs zwoadaagegs Fuaß...</td>\n",
       "      <td>[[Audi Cup, Allianz Arena, Minga, Bayern Minga...</td>\n",
       "    </tr>\n",
       "    <tr>\n",
       "      <th>7</th>\n",
       "      <td>Biologie und Genetik vo de Menschn</td>\n",
       "      <td>Hominisation</td>\n",
       "      <td>In da Biologie und Genetik vo de Menschn, dt. ...</td>\n",
       "      <td>Als Hominisation (auch Anthropogenese, selten ...</td>\n",
       "      <td>[Als Hominisation (auch Anthropogenese, selten...</td>\n",
       "      <td>[[Homo sapiens], [Hominisation], [], [], [Evol...</td>\n",
       "      <td>[In da Biologie und Genetik vo de Menschn, dt....</td>\n",
       "      <td>[[Biologie und Genetik vo de Menschn], [Biolog...</td>\n",
       "    </tr>\n",
       "    <tr>\n",
       "      <th>...</th>\n",
       "      <td>...</td>\n",
       "      <td>...</td>\n",
       "      <td>...</td>\n",
       "      <td>...</td>\n",
       "      <td>...</td>\n",
       "      <td>...</td>\n",
       "      <td>...</td>\n",
       "      <td>...</td>\n",
       "    </tr>\n",
       "    <tr>\n",
       "      <th>13796</th>\n",
       "      <td>Searcy County, Arkansas</td>\n",
       "      <td>Searcy County</td>\n",
       "      <td>Searcy County is a Bezirk im Bundesstoot Arkan...</td>\n",
       "      <td>Das Searcy County ist ein County im US-Bundess...</td>\n",
       "      <td>[Das Searcy County ist ein County im US-Bundes...</td>\n",
       "      <td>[[Searcy County, Arkansas], [Marshall], [Dry C...</td>\n",
       "      <td>[Searcy County is a Bezirk im Bundesstoot Arka...</td>\n",
       "      <td>[[Searcy County, Arkansas, USA], [Bezirk], [Ma...</td>\n",
       "    </tr>\n",
       "    <tr>\n",
       "      <th>13798</th>\n",
       "      <td>Sebastian County, Arkansas</td>\n",
       "      <td>Sebastian County</td>\n",
       "      <td>Sebastian County is a Beziak im Bundesstoot Ar...</td>\n",
       "      <td>Das Sebastian County ist ein County im US-Bund...</td>\n",
       "      <td>[Das Sebastian County ist ein County im US-Bun...</td>\n",
       "      <td>[[Sebastian County, Arkansas], [Fort Smith], [...</td>\n",
       "      <td>[Sebastian County is a Beziak im Bundesstoot A...</td>\n",
       "      <td>[[Sebastian County, Arkansas, USA], [], [Fort ...</td>\n",
       "    </tr>\n",
       "    <tr>\n",
       "      <th>13800</th>\n",
       "      <td>Sevier County, Arkansas</td>\n",
       "      <td>Sevier County (Arkansas)</td>\n",
       "      <td>Sevier County is a Beziak im Bundesstoot Arkan...</td>\n",
       "      <td>Das Sevier County ist ein County im US-Bundess...</td>\n",
       "      <td>[Das Sevier County ist ein County im US-Bundes...</td>\n",
       "      <td>[[Sevier County, Arkansas], [De Queen], [Dry C...</td>\n",
       "      <td>[Sevier County is a Beziak im Bundesstoot Arka...</td>\n",
       "      <td>[[Sevier County, Arkansas, USA], [], [De Queen...</td>\n",
       "    </tr>\n",
       "    <tr>\n",
       "      <th>13802</th>\n",
       "      <td>Sharp County, Arkansas</td>\n",
       "      <td>Sharp County</td>\n",
       "      <td>Sharp County is a Beziak im Bundesstoot Arkans...</td>\n",
       "      <td>Das Sharp County ist ein County im US-Bundesst...</td>\n",
       "      <td>[Das Sharp County ist ein County im US-Bundess...</td>\n",
       "      <td>[[Sharp County, Arkansas], [Ash Flat], [Dry Co...</td>\n",
       "      <td>[Sharp County is a Beziak im Bundesstoot Arkan...</td>\n",
       "      <td>[[Sharp County, Arkansas, USA], [], [Ash Flat]...</td>\n",
       "    </tr>\n",
       "    <tr>\n",
       "      <th>13804</th>\n",
       "      <td>St. Francis County, Arkansas</td>\n",
       "      <td>St. Francis County</td>\n",
       "      <td>St. Francis County is a Beziak im Bundesstoot ...</td>\n",
       "      <td>Das St. Francis County ist ein County im US-am...</td>\n",
       "      <td>[Das St. Francis County ist ein County im US-a...</td>\n",
       "      <td>[[St. Francis County, US, -, amerikanischen, A...</td>\n",
       "      <td>[St. Francis County is a Beziak im Bundesstoot...</td>\n",
       "      <td>[[St. Francis County, Arkansas, USA], [], [For...</td>\n",
       "    </tr>\n",
       "  </tbody>\n",
       "</table>\n",
       "<p>8833 rows × 8 columns</p>\n",
       "</div>"
      ],
      "text/plain": [
       "                                bar_title                        de_title  \\\n",
       "0                            Indus Kuitua                    Indus-Kultur   \n",
       "1              Evoluzion vo da Menschheid  Stammesgeschichte des Menschen   \n",
       "3                                  Konsul                          Konsul   \n",
       "4                                Audi Cup                        Audi Cup   \n",
       "7      Biologie und Genetik vo de Menschn                    Hominisation   \n",
       "...                                   ...                             ...   \n",
       "13796             Searcy County, Arkansas                   Searcy County   \n",
       "13798          Sebastian County, Arkansas                Sebastian County   \n",
       "13800             Sevier County, Arkansas        Sevier County (Arkansas)   \n",
       "13802              Sharp County, Arkansas                    Sharp County   \n",
       "13804        St. Francis County, Arkansas              St. Francis County   \n",
       "\n",
       "                                                bar_text  \\\n",
       "0      De Indus Kuitua, dt.: Indus-Kultur, aa Harappa...   \n",
       "1      In da Evoluzion vo da Menschheid, dt. Evolutio...   \n",
       "3      Da Konsul (Pl.: Konsuln) is a Amtspeason, wejc...   \n",
       "4      Da Audi Cup is a regelmäßigs zwoadaagegs Fuaßb...   \n",
       "7      In da Biologie und Genetik vo de Menschn, dt. ...   \n",
       "...                                                  ...   \n",
       "13796  Searcy County is a Bezirk im Bundesstoot Arkan...   \n",
       "13798  Sebastian County is a Beziak im Bundesstoot Ar...   \n",
       "13800  Sevier County is a Beziak im Bundesstoot Arkan...   \n",
       "13802  Sharp County is a Beziak im Bundesstoot Arkans...   \n",
       "13804  St. Francis County is a Beziak im Bundesstoot ...   \n",
       "\n",
       "                                                 de_text  \\\n",
       "0      Die bronzezeitliche Indus-Kultur, auch \"Indus-...   \n",
       "1      Als Stammesgeschichte des Menschen wird das du...   \n",
       "3      Der Konsul (Plural: Konsuln, abgeleitet vom la...   \n",
       "4      Der Audi Cup ist ein seit 2009 alle zwei Jahre...   \n",
       "7      Als Hominisation (auch Anthropogenese, selten ...   \n",
       "...                                                  ...   \n",
       "13796  Das Searcy County ist ein County im US-Bundess...   \n",
       "13798  Das Sebastian County ist ein County im US-Bund...   \n",
       "13800  Das Sevier County ist ein County im US-Bundess...   \n",
       "13802  Das Sharp County ist ein County im US-Bundesst...   \n",
       "13804  Das St. Francis County ist ein County im US-am...   \n",
       "\n",
       "                                                 de_sent  \\\n",
       "0      [Die bronzezeitliche Indus-Kultur, auch \"Indus...   \n",
       "1      [Als Stammesgeschichte des Menschen wird das d...   \n",
       "3      [Der Konsul (Plural: Konsuln, abgeleitet vom l...   \n",
       "4      [Der Audi Cup ist ein seit 2009 alle zwei Jahr...   \n",
       "7      [Als Hominisation (auch Anthropogenese, selten...   \n",
       "...                                                  ...   \n",
       "13796  [Das Searcy County ist ein County im US-Bundes...   \n",
       "13798  [Das Sebastian County ist ein County im US-Bun...   \n",
       "13800  [Das Sevier County ist ein County im US-Bundes...   \n",
       "13802  [Das Sharp County ist ein County im US-Bundess...   \n",
       "13804  [Das St. Francis County ist ein County im US-a...   \n",
       "\n",
       "                                          de_ner_results  \\\n",
       "0      [[], [], [Indus, ind], [Pakistan, Indiens, Afg...   \n",
       "1      [[Homo, sapiens], [Sc], [Hominini], [T. H. Hux...   \n",
       "3      [[late, ##inischen, römischen], [Konsulat], [K...   \n",
       "4      [[Audi Cup, Audi AG, Allianz Arena, München], ...   \n",
       "7      [[Homo sapiens], [Hominisation], [], [], [Evol...   \n",
       "...                                                  ...   \n",
       "13796  [[Searcy County, Arkansas], [Marshall], [Dry C...   \n",
       "13798  [[Sebastian County, Arkansas], [Fort Smith], [...   \n",
       "13800  [[Sevier County, Arkansas], [De Queen], [Dry C...   \n",
       "13802  [[Sharp County, Arkansas], [Ash Flat], [Dry Co...   \n",
       "13804  [[St. Francis County, US, -, amerikanischen, A...   \n",
       "\n",
       "                                                bar_sent  \\\n",
       "0      [De Indus Kuitua, dt., : Indus-Kultur, aa Hara...   \n",
       "1      [In da Evoluzion vo da Menschheid, dt., Evolut...   \n",
       "3      [Da Konsul (Pl., : Konsuln) is a Amtspeason, w...   \n",
       "4      [Da Audi Cup is a regelmäßigs zwoadaagegs Fuaß...   \n",
       "7      [In da Biologie und Genetik vo de Menschn, dt....   \n",
       "...                                                  ...   \n",
       "13796  [Searcy County is a Bezirk im Bundesstoot Arka...   \n",
       "13798  [Sebastian County is a Beziak im Bundesstoot A...   \n",
       "13800  [Sevier County is a Beziak im Bundesstoot Arka...   \n",
       "13802  [Sharp County is a Beziak im Bundesstoot Arkan...   \n",
       "13804  [St. Francis County is a Beziak im Bundesstoot...   \n",
       "\n",
       "                                         bar_ner_results  \n",
       "0      [[Indus Kuitua], [Indus, Harappa Kuitua, ind],...  \n",
       "1      [[Evoluzion vo da Menschheid], [Hominoidae], [...  \n",
       "3      [[Ko, ##nsul], [Ko, ##nsul, ##n], [Remischn Re...  \n",
       "4      [[Audi Cup, Allianz Arena, Minga, Bayern Minga...  \n",
       "7      [[Biologie und Genetik vo de Menschn], [Biolog...  \n",
       "...                                                  ...  \n",
       "13796  [[Searcy County, Arkansas, USA], [Bezirk], [Ma...  \n",
       "13798  [[Sebastian County, Arkansas, USA], [], [Fort ...  \n",
       "13800  [[Sevier County, Arkansas, USA], [], [De Queen...  \n",
       "13802  [[Sharp County, Arkansas, USA], [], [Ash Flat]...  \n",
       "13804  [[St. Francis County, Arkansas, USA], [], [For...  \n",
       "\n",
       "[8833 rows x 8 columns]"
      ]
     },
     "execution_count": 9,
     "metadata": {},
     "output_type": "execute_result"
    }
   ],
   "source": [
    "# Results\n",
    "df"
   ]
  },
  {
   "cell_type": "code",
   "execution_count": null,
   "id": "13e69c88-1def-40f3-a7cb-001748e7c1a5",
   "metadata": {},
   "outputs": [],
   "source": [
    "# 6. TBA process results "
   ]
  }
 ],
 "metadata": {
  "kernelspec": {
   "display_name": "banana",
   "language": "python",
   "name": "banana"
  },
  "language_info": {
   "codemirror_mode": {
    "name": "ipython",
    "version": 3
   },
   "file_extension": ".py",
   "mimetype": "text/x-python",
   "name": "python",
   "nbconvert_exporter": "python",
   "pygments_lexer": "ipython3",
   "version": "3.10.8"
  }
 },
 "nbformat": 4,
 "nbformat_minor": 5
}
