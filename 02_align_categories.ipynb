{
 "cells": [
  {
   "cell_type": "code",
   "execution_count": null,
   "id": "b22da1bf-7ac2-4edd-89cd-e6e1713ee1ba",
   "metadata": {},
   "outputs": [],
   "source": [
    "data_path = '/Users/katyaartemova/data'\n",
    "output_path = '/Users/katyaartemova/data'\n",
    "\n",
    "lang = 'bar'"
   ]
  },
  {
   "cell_type": "code",
   "execution_count": null,
   "id": "02152255-0646-4951-a102-3c515a65adc7",
   "metadata": {},
   "outputs": [],
   "source": [
    "def parse_cat(cat):\n",
    "    return cat.split(':')[1]"
   ]
  },
  {
   "cell_type": "code",
   "execution_count": null,
   "id": "63390a4b-c63d-46da-90c8-e53ab2099ad9",
   "metadata": {},
   "outputs": [],
   "source": [
    "import pandas as pd\n",
    "import json \n",
    "\n",
    "from tqdm.notebook import tqdm \n",
    "tqdm.pandas()\n",
    "\n",
    "import feather\n",
    "\n",
    "import wikipediaapi\n",
    "import pywikibot\n",
    "# import caffeine"
   ]
  },
  {
   "cell_type": "code",
   "execution_count": null,
   "id": "689f92d9-b5e3-465a-8e9b-17ff12f4f2c4",
   "metadata": {},
   "outputs": [],
   "source": [
    "def split_sentences(text):\n",
    "    sents = []\n",
    "    for l in text.split('\\n'):\n",
    "        sents += [s+'.' if not s.endswith('.') else s for s in  l.split('.,')]\n",
    "    if sents == ['.']:\n",
    "        return None\n",
    "    return sents"
   ]
  },
  {
   "cell_type": "code",
   "execution_count": null,
   "id": "67358e9b-94d0-4a7a-9274-10bf2c0b4752",
   "metadata": {},
   "outputs": [],
   "source": [
    "import glob \n",
    "files = [f for f in glob.glob(f'{data_path}/{lang}_clean/*')]\n",
    "\n",
    "dfs = []\n",
    "for f in files:\n",
    "    df =  pd.read_json(f, lines=True)\n",
    "    dfs.append(df)\n",
    "df = pd.concat(dfs)\n",
    "    \n",
    "df['sentences'] = df['text'].progress_apply(split_sentences)\n",
    "df.dropna(subset = ['sentences'],inplace=True)                   "
   ]
  },
  {
   "cell_type": "code",
   "execution_count": null,
   "id": "6f1ea7f6-f0c0-4aa9-9952-7fda415acc46",
   "metadata": {},
   "outputs": [],
   "source": [
    "langs = ['de']\n",
    "def get_langlinks(page, langs = langs):\n",
    "    records = {}\n",
    "    langlinks = page.langlinks\n",
    " \n",
    "    for k in langs:\n",
    "        if k in langlinks.keys():\n",
    "            v = langlinks[k]\n",
    "            records[k] = v.title\n",
    "        else:\n",
    "            records[k] = None\n",
    "    return records\n",
    "\n",
    "wiki = wikipediaapi.Wikipedia(lang)\n",
    "\n",
    "records = []\n",
    "for idx, row in tqdm(df.iterrows(), total = len(df)):\n",
    "\n",
    "    page = wiki.page(row['title'])\n",
    "    record = get_langlinks(page)\n",
    "    record[f'{lang}'] = row['title']\n",
    "    records.append(record)\n",
    "    if idx % 100 == 0:\n",
    "        print(idx)\n",
    "\n",
    "titles_df = pd.DataFrame.from_records(records)\n",
    "titles_df.reset_index(drop = True, inplace = True)\n",
    "titles_df.to_feather(f'{data_path}/{lang}_de_title')"
   ]
  },
  {
   "cell_type": "code",
   "execution_count": null,
   "id": "650a820e-278a-4ae0-bbc3-7a712a038513",
   "metadata": {},
   "outputs": [],
   "source": [
    "titles_df.to_feather(f'{data_path}/{lang}_de_title')"
   ]
  }
 ],
 "metadata": {
  "kernelspec": {
   "display_name": "banana",
   "language": "python",
   "name": "banana"
  },
  "language_info": {
   "codemirror_mode": {
    "name": "ipython",
    "version": 3
   },
   "file_extension": ".py",
   "mimetype": "text/x-python",
   "name": "python",
   "nbconvert_exporter": "python",
   "pygments_lexer": "ipython3",
   "version": "3.10.8"
  }
 },
 "nbformat": 4,
 "nbformat_minor": 5
}
