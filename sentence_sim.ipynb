{
 "cells": [
  {
   "cell_type": "code",
   "execution_count": null,
   "id": "aec0fa94-6a1f-4013-b52d-97de5ffda3be",
   "metadata": {},
   "outputs": [],
   "source": [
    "This is a draft notebook of how different types of word-"
   ]
  },
  {
   "cell_type": "raw",
   "id": "19de4d56-800a-46fe-b333-ff084d2e406b",
   "metadata": {
    "tags": []
   },
   "source": [
    "!pip3 install -U sentence-transformers "
   ]
  },
  {
   "cell_type": "raw",
   "id": "a220c038-a99e-4776-b12b-a398d0943fa8",
   "metadata": {},
   "source": [
    "!pip3 install gruut gruut_lang_de\n",
    "!pip3 install -f 'https://synesthesiam.github.io/prebuilt-apps/' gruut[de]"
   ]
  },
  {
   "cell_type": "code",
   "execution_count": 10,
   "id": "f5148b49-8c9b-42a4-9f32-5e380af741b7",
   "metadata": {},
   "outputs": [],
   "source": [
    "!export CUDA_VISIBLE_DEVICES=MIG-5e8c067e-f6a8-5eb5-8b91-cc7fd22d1043"
   ]
  },
  {
   "cell_type": "code",
   "execution_count": 18,
   "id": "7e51df2c-bd41-4c4d-8bcb-fde253b2fd49",
   "metadata": {},
   "outputs": [],
   "source": [
    "import pandas as pd\n",
    "import torch\n",
    "from sklearn.metrics import *\n",
    "from tqdm.notebook import tqdm"
   ]
  },
  {
   "cell_type": "code",
   "execution_count": 2,
   "id": "a4d763a3-21b0-4dd7-bc69-1672655446db",
   "metadata": {},
   "outputs": [],
   "source": [
    "torch.cuda.is_available()\n",
    "device = torch.device('cuda' if torch.cuda.is_available() else 'cpu')"
   ]
  },
  {
   "cell_type": "code",
   "execution_count": 3,
   "id": "cefea2bb-9d4f-44e4-bf42-d2be3bfa5c62",
   "metadata": {},
   "outputs": [],
   "source": [
    "df = pd.read_csv('tatoeba/Sentence pairs in Luxembourgish-German - 2022-10-28.tsv',sep='\\t', header=None)\n",
    "df.columns = ['lb_id', 'lb_sentence', 'de_id', 'de_sentence']\n",
    "\n",
    "\n",
    "sentences1 = df.lb_sentence.tolist()\n",
    "sentences2 = df.de_sentence.tolist()\n",
    "n = len(df)"
   ]
  },
  {
   "cell_type": "code",
   "execution_count": 4,
   "id": "0eb7da38-c081-4370-bb7e-d19743990435",
   "metadata": {},
   "outputs": [
    {
     "data": {
      "text/plain": [
       "(767, 4)"
      ]
     },
     "execution_count": 4,
     "metadata": {},
     "output_type": "execute_result"
    }
   ],
   "source": [
    "df.shape"
   ]
  },
  {
   "cell_type": "raw",
   "id": "7f4d655c-a3c6-4888-a5ee-855efdf180f4",
   "metadata": {},
   "source": [
    "from sentence_transformers import SentenceTransformer, util\n",
    "\n",
    "model_id = 'sentence-transformers/LaBSE'\n",
    "model = SentenceTransformer(model_id)\n",
    "\n",
    "model.to(device)\n",
    "\n",
    "\n",
    "#Compute embedding for both lists\n",
    "embeddings1 = model.encode(sentences1, convert_to_tensor=True)\n",
    "embeddings2 = model.encode(sentences2, convert_to_tensor=True)\n",
    "\n",
    "#Compute cosine-similarities\n",
    "cosine_scores = util.cos_sim(embeddings1, embeddings2).to('cpu')\n",
    "\n",
    "\n",
    "df['positive_scores'] = [float(cosine_scores[i][i]) for i in range(n)]\n",
    "df['top1'] = torch.flatten(torch.topk(cosine_scores, k=1).indices).tolist()\n",
    "df['top5'] = torch.topk(cosine_scores, k=5).indices.tolist()"
   ]
  },
  {
   "cell_type": "raw",
   "id": "2fda4a87-98ed-41a1-8f07-dc6228e6f64f",
   "metadata": {},
   "source": [
    "acc = accuracy_score(list(range(n)), df['top1'])\n",
    "print(\"{} matching accuracy {:.4f}\".format(model_id, acc))"
   ]
  },
  {
   "cell_type": "code",
   "execution_count": 25,
   "id": "e2aaaf64-701f-47c4-b2e5-49c197de6f38",
   "metadata": {},
   "outputs": [
    {
     "data": {
      "text/html": [
       "<div>\n",
       "<style scoped>\n",
       "    .dataframe tbody tr th:only-of-type {\n",
       "        vertical-align: middle;\n",
       "    }\n",
       "\n",
       "    .dataframe tbody tr th {\n",
       "        vertical-align: top;\n",
       "    }\n",
       "\n",
       "    .dataframe thead th {\n",
       "        text-align: right;\n",
       "    }\n",
       "</style>\n",
       "<table border=\"1\" class=\"dataframe\">\n",
       "  <thead>\n",
       "    <tr style=\"text-align: right;\">\n",
       "      <th></th>\n",
       "      <th>lb_id</th>\n",
       "      <th>lb_sentence</th>\n",
       "      <th>de_id</th>\n",
       "      <th>de_sentence</th>\n",
       "      <th>de_transcription</th>\n",
       "    </tr>\n",
       "  </thead>\n",
       "  <tbody>\n",
       "    <tr>\n",
       "      <th>0</th>\n",
       "      <td>3169321</td>\n",
       "      <td>Ech gleewen et nach ëmmer net.</td>\n",
       "      <td>3169315</td>\n",
       "      <td>Ich glaube es immer noch nicht.</td>\n",
       "      <td></td>\n",
       "    </tr>\n",
       "    <tr>\n",
       "      <th>1</th>\n",
       "      <td>3800402</td>\n",
       "      <td>Hues du mäi Mail scho kritt?</td>\n",
       "      <td>4934502</td>\n",
       "      <td>Hast du meine Mail schon bekommen?</td>\n",
       "      <td></td>\n",
       "    </tr>\n",
       "    <tr>\n",
       "      <th>2</th>\n",
       "      <td>3800417</td>\n",
       "      <td>Nenn mer dräi amerikanesch Presidenten!</td>\n",
       "      <td>4934506</td>\n",
       "      <td>Nenn mir drei amerikanische Präsidenten!</td>\n",
       "      <td></td>\n",
       "    </tr>\n",
       "    <tr>\n",
       "      <th>3</th>\n",
       "      <td>3800351</td>\n",
       "      <td>Stell d'Këscht hei an den Eck!</td>\n",
       "      <td>4934507</td>\n",
       "      <td>Stell die Kiste hier in die Ecke!</td>\n",
       "      <td></td>\n",
       "    </tr>\n",
       "    <tr>\n",
       "      <th>4</th>\n",
       "      <td>3169542</td>\n",
       "      <td>Si kachen elo.</td>\n",
       "      <td>4934512</td>\n",
       "      <td>Sie kochen gerade.</td>\n",
       "      <td></td>\n",
       "    </tr>\n",
       "  </tbody>\n",
       "</table>\n",
       "</div>"
      ],
      "text/plain": [
       "     lb_id                              lb_sentence    de_id  \\\n",
       "0  3169321           Ech gleewen et nach ëmmer net.  3169315   \n",
       "1  3800402             Hues du mäi Mail scho kritt?  4934502   \n",
       "2  3800417  Nenn mer dräi amerikanesch Presidenten!  4934506   \n",
       "3  3800351           Stell d'Këscht hei an den Eck!  4934507   \n",
       "4  3169542                           Si kachen elo.  4934512   \n",
       "\n",
       "                                de_sentence de_transcription  \n",
       "0           Ich glaube es immer noch nicht.                   \n",
       "1        Hast du meine Mail schon bekommen?                   \n",
       "2  Nenn mir drei amerikanische Präsidenten!                   \n",
       "3         Stell die Kiste hier in die Ecke!                   \n",
       "4                        Sie kochen gerade.                   "
      ]
     },
     "execution_count": 25,
     "metadata": {},
     "output_type": "execute_result"
    }
   ],
   "source": [
    "df.head()"
   ]
  },
  {
   "cell_type": "code",
   "execution_count": 44,
   "id": "45699470-08a0-46b4-858f-2687de1763b0",
   "metadata": {},
   "outputs": [
    {
     "data": {
      "application/vnd.jupyter.widget-view+json": {
       "model_id": "2da341e0d8a841538e81fc7d8bdd8a04",
       "version_major": 2,
       "version_minor": 0
      },
      "text/plain": [
       "  0%|          | 0/767 [00:00<?, ?it/s]"
      ]
     },
     "metadata": {},
     "output_type": "display_data"
    }
   ],
   "source": [
    "from gruut import sentences\n",
    "import gruut_lang_de\n",
    "\n",
    "df['row.de_transcription'] = ''\n",
    "transcriptions = []\n",
    "for idx, row in tqdm(df.iterrows(), total = n):\n",
    "    for sent in sentences(row.de_sentence, lang=\"de\"):\n",
    "        try:\n",
    "            t = ' '.join([''.join(word.phonemes) for word in sent]) \n",
    "        except:\n",
    "            t = ''\n",
    "        row.de_transcription = t"
   ]
  },
  {
   "cell_type": "code",
   "execution_count": 45,
   "id": "bf285d0b-83a0-4bc0-bfde-77d1a073a050",
   "metadata": {},
   "outputs": [
    {
     "data": {
      "text/html": [
       "<div>\n",
       "<style scoped>\n",
       "    .dataframe tbody tr th:only-of-type {\n",
       "        vertical-align: middle;\n",
       "    }\n",
       "\n",
       "    .dataframe tbody tr th {\n",
       "        vertical-align: top;\n",
       "    }\n",
       "\n",
       "    .dataframe thead th {\n",
       "        text-align: right;\n",
       "    }\n",
       "</style>\n",
       "<table border=\"1\" class=\"dataframe\">\n",
       "  <thead>\n",
       "    <tr style=\"text-align: right;\">\n",
       "      <th></th>\n",
       "      <th>lb_id</th>\n",
       "      <th>lb_sentence</th>\n",
       "      <th>de_id</th>\n",
       "      <th>de_sentence</th>\n",
       "      <th>de_transcription</th>\n",
       "      <th>row.de_transcription</th>\n",
       "    </tr>\n",
       "  </thead>\n",
       "  <tbody>\n",
       "    <tr>\n",
       "      <th>0</th>\n",
       "      <td>3169321</td>\n",
       "      <td>Ech gleewen et nach ëmmer net.</td>\n",
       "      <td>3169315</td>\n",
       "      <td>Ich glaube es immer noch nicht.</td>\n",
       "      <td></td>\n",
       "      <td></td>\n",
       "    </tr>\n",
       "    <tr>\n",
       "      <th>1</th>\n",
       "      <td>3800402</td>\n",
       "      <td>Hues du mäi Mail scho kritt?</td>\n",
       "      <td>4934502</td>\n",
       "      <td>Hast du meine Mail schon bekommen?</td>\n",
       "      <td></td>\n",
       "      <td></td>\n",
       "    </tr>\n",
       "    <tr>\n",
       "      <th>2</th>\n",
       "      <td>3800417</td>\n",
       "      <td>Nenn mer dräi amerikanesch Presidenten!</td>\n",
       "      <td>4934506</td>\n",
       "      <td>Nenn mir drei amerikanische Präsidenten!</td>\n",
       "      <td></td>\n",
       "      <td></td>\n",
       "    </tr>\n",
       "    <tr>\n",
       "      <th>3</th>\n",
       "      <td>3800351</td>\n",
       "      <td>Stell d'Këscht hei an den Eck!</td>\n",
       "      <td>4934507</td>\n",
       "      <td>Stell die Kiste hier in die Ecke!</td>\n",
       "      <td></td>\n",
       "      <td></td>\n",
       "    </tr>\n",
       "    <tr>\n",
       "      <th>4</th>\n",
       "      <td>3169542</td>\n",
       "      <td>Si kachen elo.</td>\n",
       "      <td>4934512</td>\n",
       "      <td>Sie kochen gerade.</td>\n",
       "      <td></td>\n",
       "      <td></td>\n",
       "    </tr>\n",
       "  </tbody>\n",
       "</table>\n",
       "</div>"
      ],
      "text/plain": [
       "     lb_id                              lb_sentence    de_id  \\\n",
       "0  3169321           Ech gleewen et nach ëmmer net.  3169315   \n",
       "1  3800402             Hues du mäi Mail scho kritt?  4934502   \n",
       "2  3800417  Nenn mer dräi amerikanesch Presidenten!  4934506   \n",
       "3  3800351           Stell d'Këscht hei an den Eck!  4934507   \n",
       "4  3169542                           Si kachen elo.  4934512   \n",
       "\n",
       "                                de_sentence de_transcription  \\\n",
       "0           Ich glaube es immer noch nicht.                    \n",
       "1        Hast du meine Mail schon bekommen?                    \n",
       "2  Nenn mir drei amerikanische Präsidenten!                    \n",
       "3         Stell die Kiste hier in die Ecke!                    \n",
       "4                        Sie kochen gerade.                    \n",
       "\n",
       "  row.de_transcription  \n",
       "0                       \n",
       "1                       \n",
       "2                       \n",
       "3                       \n",
       "4                       "
      ]
     },
     "execution_count": 45,
     "metadata": {},
     "output_type": "execute_result"
    }
   ],
   "source": [
    "df.head()"
   ]
  }
 ],
 "metadata": {
  "kernelspec": {
   "display_name": "Python [conda env:.conda-banana] *",
   "language": "python",
   "name": "conda-env-.conda-banana-py"
  },
  "language_info": {
   "codemirror_mode": {
    "name": "ipython",
    "version": 3
   },
   "file_extension": ".py",
   "mimetype": "text/x-python",
   "name": "python",
   "nbconvert_exporter": "python",
   "pygments_lexer": "ipython3",
   "version": "3.10.6"
  }
 },
 "nbformat": 4,
 "nbformat_minor": 5
}
