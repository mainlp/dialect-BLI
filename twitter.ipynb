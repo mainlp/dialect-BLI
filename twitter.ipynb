{
 "cells": [
  {
   "cell_type": "markdown",
   "id": "8f5fcc93-921a-4fd9-b5ce-ad2b26647d55",
   "metadata": {},
   "source": [
    "This notebook queries Twitter with a simple query and stores results in a json file. "
   ]
  },
  {
   "cell_type": "raw",
   "id": "a40fd61a-d1ff-4e4f-8570-39af6c1307a9",
   "metadata": {
    "tags": []
   },
   "source": [
    "!pip3 install searchtweets twarc"
   ]
  },
  {
   "cell_type": "code",
   "execution_count": null,
   "id": "90895ab8-8e8c-4d2e-9544-34dce20b23ed",
   "metadata": {},
   "outputs": [],
   "source": [
    "from twarc import Twarc2, expansions\n",
    "import datetime\n",
    "import json\n",
    "import pandas as pd"
   ]
  },
  {
   "cell_type": "code",
   "execution_count": null,
   "id": "08e6e7b6-8494-461c-b7ee-d2bc5bc87882",
   "metadata": {},
   "outputs": [],
   "source": [
    "bearer_token = open('bearer_token.txt').readlines()[0].strip()\n",
    "\n",
    "client = Twarc2(bearer_token=bearer_token)"
   ]
  },
  {
   "cell_type": "code",
   "execution_count": null,
   "id": "9520ce6b-1926-4715-994b-d1501185ae9b",
   "metadata": {},
   "outputs": [],
   "source": [
    "client.auth_type"
   ]
  },
  {
   "cell_type": "code",
   "execution_count": null,
   "id": "1361a40f-01af-4517-9269-d18d38ee02fc",
   "metadata": {},
   "outputs": [],
   "source": [
    "def create_query(query, lang = False, no_rt = False, no_reply = False, has_geo = False):\n",
    "    if type(query) == list:\n",
    "        result = f'point_radius:[{query[0]} {query[1]} 15km]'\n",
    "    if type(query) == str:\n",
    "        result = query \n",
    "    if lang:\n",
    "        result += f'lang:{lang}'\n",
    "    if no_rt:\n",
    "        result += '-is:retweet'\n",
    "    if no_reply: \n",
    "        result += '-is:reply'\n",
    "    if has_geo:\n",
    "        result += 'has:geo'   \n",
    "    return result \n",
    "        \n",
    "\n",
    "def retrieve_tweets(query, start_time, end_time):\n",
    "    \n",
    "    tweets = []\n",
    "    \n",
    "    search_results = client.search_all(query=query,\n",
    "                                       start_time=start_time, \n",
    "                                       end_time=end_time, \n",
    "                                       max_results=10)\n",
    "\n",
    "    for page in search_results:\n",
    "\n",
    "        result = expansions.flatten(page)\n",
    "        for tweet in result:\n",
    "            tweets.append(tweet)\n",
    "    return tweets"
   ]
  },
  {
   "cell_type": "code",
   "execution_count": null,
   "id": "7c0c35bd-dd85-4b87-b95c-75767acc1cfa",
   "metadata": {},
   "outputs": [],
   "source": [
    "def create_df(query):\n",
    "    tweets = []\n",
    "    with open(f'tweets/{query}.json','r') as infile:\n",
    "        for line in infile.readlines():\n",
    "            tweets += json.loads(line)\n",
    "    print(len(tweets))\n",
    "\n",
    "    clmns = ['id', 'author_id', 'created_at', 'lang', 'text', 'possibly_sensitive']\n",
    "    records = []\n",
    "    for tweet in tweets:\n",
    "        record = [tweet['author']['username']]\n",
    "        for clmn in clmns:\n",
    "            record.append(tweet[clmn])\n",
    "        if 'location' in tweet['author']:\n",
    "            record.append(tweet['author']['location'])\n",
    "        else:\n",
    "            record.append('')\n",
    "        records.append(record)\n",
    "\n",
    "    df = pd.DataFrame.from_records(records, columns = ['username'] + clmns + ['user_location'])\n",
    "    df.to_csv(f'tweets/{query}.csv')"
   ]
  },
  {
   "cell_type": "code",
   "execution_count": null,
   "id": "fa9aaa17-1e72-4cd6-b9e0-0bcd324c9141",
   "metadata": {},
   "outputs": [],
   "source": [
    "start_time = datetime.datetime(2022, 1, 1, 0, 0, 0, 0, datetime.timezone.utc)\n",
    "end_time = datetime.datetime(2022, 1, 30, 0, 0, 0, 0, datetime.timezone.utc)"
   ]
  },
  {
   "cell_type": "code",
   "execution_count": null,
   "id": "244c183c-8f53-4212-82f4-2020b04760fe",
   "metadata": {},
   "outputs": [],
   "source": [
    "seed = ''\n",
    "\n",
    "query = create_query(seed, no_rt = True)\n",
    "\n",
    "tweets = retrieve_tweets(query, start_time, end_time)\n",
    "\n",
    "with open(f'tweets/{query}.json','w+') as outfile:\n",
    "    json.dump(tweets, outfile)\n",
    "create_df(query)"
   ]
  },
  {
   "cell_type": "code",
   "execution_count": null,
   "id": "bd60cc9e-59ca-4ed9-a8bf-e2d75d99b27f",
   "metadata": {},
   "outputs": [],
   "source": [
    "lat = 48.13\n",
    "long = 11.57\n",
    "\n",
    "query = create_query([lat, long])\n",
    "\n",
    "tweets = retrieve_tweets(query, start_time, end_time)\n",
    "\n",
    "with open(f'tweets/{query}.json','w+') as outfile:\n",
    "    json.dump(tweets, outfile)\n"
   ]
  },
  {
   "cell_type": "code",
   "execution_count": null,
   "id": "d88804b2-ab50-4496-8c4a-d90a577ab32a",
   "metadata": {},
   "outputs": [],
   "source": [
    "def clean(s):\n",
    "    import re\n",
    "    s = re.sub('@[\\w]+','',s)\n",
    "    s = re.sub(r'https?://\\S+|www\\.\\S+', '', s)\n",
    "    #s = s.replace('RT :','')\n",
    "    s = s.strip()\n",
    "    return s\n",
    "\n",
    "\n",
    "df['cleaned_text'] = df.text.apply(clean)"
   ]
  }
 ],
 "metadata": {
  "kernelspec": {
   "display_name": "banana",
   "language": "python",
   "name": "banana"
  },
  "language_info": {
   "codemirror_mode": {
    "name": "ipython",
    "version": 3
   },
   "file_extension": ".py",
   "mimetype": "text/x-python",
   "name": "python",
   "nbconvert_exporter": "python",
   "pygments_lexer": "ipython3",
   "version": "3.10.8"
  }
 },
 "nbformat": 4,
 "nbformat_minor": 5
}
