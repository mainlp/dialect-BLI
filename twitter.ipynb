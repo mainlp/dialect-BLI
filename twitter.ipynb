{
 "cells": [
  {
   "cell_type": "markdown",
   "id": "8f5fcc93-921a-4fd9-b5ce-ad2b26647d55",
   "metadata": {},
   "source": [
    "This notebook queries Twitter with a simple query and stores results in a json file. "
   ]
  },
  {
   "cell_type": "code",
   "execution_count": 7,
   "id": "9102d659-9baa-4f0b-be47-fee4edea0da4",
   "metadata": {
    "collapsed": true,
    "jupyter": {
     "outputs_hidden": true
    },
    "tags": []
   },
   "outputs": [
    {
     "name": "stdout",
     "output_type": "stream",
     "text": [
      "Requirement already satisfied: searchtweets in /opt/homebrew/lib/python3.10/site-packages (1.7.6)\n",
      "Collecting twarc\n",
      "  Downloading twarc-2.12.0-py3-none-any.whl (60 kB)\n",
      "\u001b[2K     \u001b[90m━━━━━━━━━━━━━━━━━━━━━━━━━━━━━━━━━━━━━━━━\u001b[0m \u001b[32m60.1/60.1 kB\u001b[0m \u001b[31m1.8 MB/s\u001b[0m eta \u001b[36m0:00:00\u001b[0m\n",
      "\u001b[?25hRequirement already satisfied: tweet-parser in /opt/homebrew/lib/python3.10/site-packages (from searchtweets) (1.13.2)\n",
      "Requirement already satisfied: pyyaml in /opt/homebrew/lib/python3.10/site-packages (from searchtweets) (6.0)\n",
      "Requirement already satisfied: requests in /opt/homebrew/lib/python3.10/site-packages (from searchtweets) (2.28.1)\n",
      "Requirement already satisfied: tqdm>=4.62 in /opt/homebrew/lib/python3.10/site-packages (from twarc) (4.64.1)\n",
      "Collecting click-plugins>=1\n",
      "  Downloading click_plugins-1.1.1-py2.py3-none-any.whl (7.5 kB)\n",
      "Requirement already satisfied: python-dateutil>=2.8 in /opt/homebrew/lib/python3.10/site-packages (from twarc) (2.8.2)\n",
      "Requirement already satisfied: click<9,>=7 in /opt/homebrew/lib/python3.10/site-packages (from twarc) (8.1.3)\n",
      "Collecting requests-oauthlib>=1.3\n",
      "  Downloading requests_oauthlib-1.3.1-py2.py3-none-any.whl (23 kB)\n",
      "Collecting humanize>=3.9\n",
      "  Downloading humanize-4.4.0-py3-none-any.whl (106 kB)\n",
      "\u001b[2K     \u001b[90m━━━━━━━━━━━━━━━━━━━━━━━━━━━━━━━━━━━━━━━\u001b[0m \u001b[32m106.6/106.6 kB\u001b[0m \u001b[31m3.6 MB/s\u001b[0m eta \u001b[36m0:00:00\u001b[0m\n",
      "\u001b[?25hCollecting click-config-file>=0.6\n",
      "  Downloading click_config_file-0.6.0-py2.py3-none-any.whl (6.0 kB)\n",
      "Collecting configobj>=5.0.6\n",
      "  Downloading configobj-5.0.6.tar.gz (33 kB)\n",
      "  Preparing metadata (setup.py) ... \u001b[?25ldone\n",
      "\u001b[?25hRequirement already satisfied: six>=1.5 in /opt/homebrew/lib/python3.10/site-packages (from python-dateutil>=2.8->twarc) (1.16.0)\n",
      "Collecting oauthlib>=3.0.0\n",
      "  Downloading oauthlib-3.2.2-py3-none-any.whl (151 kB)\n",
      "\u001b[2K     \u001b[90m━━━━━━━━━━━━━━━━━━━━━━━━━━━━━━━━━━━━━━━\u001b[0m \u001b[32m151.7/151.7 kB\u001b[0m \u001b[31m7.1 MB/s\u001b[0m eta \u001b[36m0:00:00\u001b[0m\n",
      "\u001b[?25hRequirement already satisfied: certifi>=2017.4.17 in /opt/homebrew/lib/python3.10/site-packages (from requests->searchtweets) (2022.9.24)\n",
      "Requirement already satisfied: urllib3<1.27,>=1.21.1 in /opt/homebrew/lib/python3.10/site-packages (from requests->searchtweets) (1.26.12)\n",
      "Requirement already satisfied: idna<4,>=2.5 in /opt/homebrew/lib/python3.10/site-packages (from requests->searchtweets) (3.4)\n",
      "Requirement already satisfied: charset-normalizer<3,>=2 in /opt/homebrew/lib/python3.10/site-packages (from requests->searchtweets) (2.1.1)\n",
      "Building wheels for collected packages: configobj\n",
      "  Building wheel for configobj (setup.py) ... \u001b[?25ldone\n",
      "\u001b[?25h  Created wheel for configobj: filename=configobj-5.0.6-py3-none-any.whl size=34528 sha256=5b411daf94b051837420c8d682af0ff8565ee07241f8594bd40d1ca24b60d83f\n",
      "  Stored in directory: /Users/katyaartemova/Library/Caches/pip/wheels/90/cd/58/816b023d3eb0e2c9c6e0cd834a10a53e932e29d7c719298216\n",
      "Successfully built configobj\n",
      "Installing collected packages: oauthlib, humanize, configobj, click-plugins, requests-oauthlib, click-config-file, twarc\n",
      "Successfully installed click-config-file-0.6.0 click-plugins-1.1.1 configobj-5.0.6 humanize-4.4.0 oauthlib-3.2.2 requests-oauthlib-1.3.1 twarc-2.12.0\n",
      "\n",
      "\u001b[1m[\u001b[0m\u001b[34;49mnotice\u001b[0m\u001b[1;39;49m]\u001b[0m\u001b[39;49m A new release of pip available: \u001b[0m\u001b[31;49m22.2.2\u001b[0m\u001b[39;49m -> \u001b[0m\u001b[32;49m22.3\u001b[0m\n",
      "\u001b[1m[\u001b[0m\u001b[34;49mnotice\u001b[0m\u001b[1;39;49m]\u001b[0m\u001b[39;49m To update, run: \u001b[0m\u001b[32;49mpython3.10 -m pip install --upgrade pip\u001b[0m\n"
     ]
    }
   ],
   "source": [
    "!pip3 install searchtweets twarc"
   ]
  },
  {
   "cell_type": "code",
   "execution_count": 12,
   "id": "1361a40f-01af-4517-9269-d18d38ee02fc",
   "metadata": {},
   "outputs": [],
   "source": [
    "from twarc import Twarc2, expansions\n",
    "import datetime\n",
    "import json\n",
    "\n",
    "bearer_token = open('bearer_token.txt').readlines()[0].strip()\n",
    "\n",
    "client = Twarc2(bearer_token=bearer_token)\n",
    "\n",
    "\n",
    "def main(query):\n",
    "    \n",
    "    tweets = []\n",
    "\n",
    "    start_time = datetime.datetime(2021, 1, 1, 0, 0, 0, 0, datetime.timezone.utc)\n",
    "    end_time = datetime.datetime(2021, 5, 30, 0, 0, 0, 0, datetime.timezone.utc)\n",
    "    \n",
    "\n",
    "    search_results = client.search_all(query=query, start_time=start_time, end_time=end_time, max_results=10)\n",
    "\n",
    "    for page in search_results:\n",
    "\n",
    "        result = expansions.flatten(page)\n",
    "        for tweet in result:\n",
    "            tweets.append(json.dumps(tweet))\n",
    "    return tweets\n"
   ]
  },
  {
   "cell_type": "code",
   "execution_count": 14,
   "id": "736c9f65-cccc-48ec-9239-2dc103a9e5a8",
   "metadata": {},
   "outputs": [
    {
     "name": "stderr",
     "output_type": "stream",
     "text": [
      "rate limit exceeded: sleeping 437.8378858566284 secs\n"
     ]
    }
   ],
   "source": [
    "query = \"gscheid\"\n",
    "tweets = main(query)"
   ]
  },
  {
   "cell_type": "code",
   "execution_count": 18,
   "id": "aff70922-73c9-4587-90cc-9c659345903c",
   "metadata": {},
   "outputs": [],
   "source": [
    "with open(f'tweets/tweets_{query}.txt','w+') as outfile:\n",
    "    for tweet in tweets:\n",
    "        outfile.write(tweet)\n",
    "          \n"
   ]
  },
  {
   "cell_type": "code",
   "execution_count": null,
   "id": "ce215c73-a966-46c8-aadb-0c2b495014df",
   "metadata": {},
   "outputs": [],
   "source": []
  }
 ],
 "metadata": {
  "kernelspec": {
   "display_name": "banana",
   "language": "python",
   "name": "banana"
  },
  "language_info": {
   "codemirror_mode": {
    "name": "ipython",
    "version": 3
   },
   "file_extension": ".py",
   "mimetype": "text/x-python",
   "name": "python",
   "nbconvert_exporter": "python",
   "pygments_lexer": "ipython3",
   "version": "3.10.8"
  }
 },
 "nbformat": 4,
 "nbformat_minor": 5
}
