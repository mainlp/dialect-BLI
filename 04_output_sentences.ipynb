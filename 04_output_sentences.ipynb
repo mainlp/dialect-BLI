{
 "cells": [
  {
   "cell_type": "code",
   "execution_count": null,
   "id": "58e05424-0880-44ba-be96-9162067f9125",
   "metadata": {},
   "outputs": [],
   "source": [
    "import pandas as pd\n",
    "\n",
    "from somajo import SoMaJo\n",
    "\n",
    "SoMaJo_tokenizer = SoMaJo(\"de_CMC\", split_camel_case=True)\n",
    "\n",
    "import torch\n",
    "\n",
    "from transformers import AutoTokenizer, AutoModelForTokenClassification\n",
    "from transformers import pipeline"
   ]
  },
  {
   "cell_type": "code",
   "execution_count": null,
   "id": "b93719b2-6be8-4ca1-b9a5-dfdf57c218af",
   "metadata": {},
   "outputs": [],
   "source": [
    "output = 'bitext/awesome_align'\n",
    "\n",
    "\n",
    "p = pathlib.Path(output_path)\n",
    "p.mkdir(parents=True, exist_ok=True)"
   ]
  },
  {
   "cell_type": "code",
   "execution_count": null,
   "id": "e13ba41b-5301-4aa2-8ce4-2b1185b3a555",
   "metadata": {},
   "outputs": [],
   "source": [
    "model_id = \"sentence-transformers/LaBSE\"\n",
    "model = SentenceTransformer(model_id)\n",
    "tokenizer = AutoTokenizer.from_pretrained(model_id)"
   ]
  },
  {
   "cell_type": "code",
   "execution_count": null,
   "id": "2d5750c1-d1fd-4695-8833-a1e95367fa4b",
   "metadata": {},
   "outputs": [],
   "source": [
    "def mytokenize(sent):\n",
    "    import re\n",
    "    tokens = []\n",
    "    sentences = SoMaJo_tokenizer.tokenize_text([sent])\n",
    "    for sentence in sentences:\n",
    "        for token in sentence:\n",
    "            tokens.append(token.text)\n",
    "    mysent = ' '.join(tokens)\n",
    "    mysent = tokenizer.decode(tokenizer.encode(mysent), skip_special_tokens=True)\n",
    "    mysent = re.sub('(?<! )(?=[.,!?()])|(?<=[.,!?()])(?! )', r' ', mysent)\n",
    "    mysent = mysent.strip()\n",
    "    return mysent\n",
    "\n",
    "parallel_sents_df = pd.read_csv(f'{output_path}/{model_id}-{pool}_{lang}.csv', index_col = 0)"
   ]
  },
  {
   "cell_type": "code",
   "execution_count": null,
   "id": "b786bd94-f857-418f-b763-68849c99094c",
   "metadata": {},
   "outputs": [],
   "source": [
    "parallel_sents_df = parallel_sents_df[(parallel_sents_df['cos_sim'] >= 0.4) & (parallel_sents_df['cos_sim'] <= 0.9)]\n",
    "sep = ' ||| '\n",
    "with open(f'{output_path}/{lang}de.src-tgt','w+') as outfile:\n",
    "    for idx, row in df.iterrows():\n",
    "        outfile.write(mytokenize(row[f'{lang}_sent']) + sep + mytokenize(row['de_sent']) + '\\n')"
   ]
  }
 ],
 "metadata": {
  "kernelspec": {
   "display_name": "Python 3 (ipykernel)",
   "language": "python",
   "name": "python3"
  },
  "language_info": {
   "codemirror_mode": {
    "name": "ipython",
    "version": 3
   },
   "file_extension": ".py",
   "mimetype": "text/x-python",
   "name": "python",
   "nbconvert_exporter": "python",
   "pygments_lexer": "ipython3",
   "version": "3.10.6"
  }
 },
 "nbformat": 4,
 "nbformat_minor": 5
}
