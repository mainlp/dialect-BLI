{
 "cells": [
  {
   "cell_type": "code",
   "execution_count": 5,
   "id": "64929458-de91-434d-9fcc-991269742d59",
   "metadata": {},
   "outputs": [],
   "source": [
    "lang = 'als'\n",
    "model_idx = 'gbert'\n",
    "\n",
    "path = 'bitext/awesome_align/'\n",
    "output_path = 'bitext/bli/'\n",
    "\n",
    "\n",
    "sep = '<sep>'"
   ]
  },
  {
   "cell_type": "code",
   "execution_count": 6,
   "id": "b296d261-4070-4016-8a6c-f9433a27b6b9",
   "metadata": {},
   "outputs": [],
   "source": [
    "import pandas as pd\n",
    "import os \n",
    "from collections import Counter \n",
    "\n",
    "import nltk\n",
    "german_stop_words = nltk.corpus.stopwords.words('german')\n",
    "\n",
    "import string\n",
    "punct = list(string.punctuation)\n",
    "\n",
    "if not os.path.exists(output_path):\n",
    "    os.mkdir(output_path)\n",
    "    \n",
    "import editdistance\n",
    "\n",
    "from tqdm import tqdm\n",
    "tqdm.pandas()\n",
    "\n",
    "import numpy as np"
   ]
  },
  {
   "cell_type": "code",
   "execution_count": 7,
   "id": "96a2b2e0-5238-4067-b413-02b81f07e086",
   "metadata": {},
   "outputs": [
    {
     "data": {
      "text/plain": [
       "('Kult<sep>Kult .<sep>.\\n', '1.0 1.0\\n')"
      ]
     },
     "execution_count": 7,
     "metadata": {},
     "output_type": "execute_result"
    }
   ],
   "source": [
    "word_fname = f'{path}/{model_idx}_{lang}de.word'\n",
    "prob_gname = f'{path}/{model_idx}_{lang}de.prob'\n",
    "word_lines = open(word_fname).readlines()\n",
    "prob_lines = open(prob_gname).readlines()\n",
    "word_lines[0],prob_lines[0]"
   ]
  },
  {
   "cell_type": "code",
   "execution_count": 8,
   "id": "8fa6d3c8-f588-4e5b-a265-9c53b6b1dfc7",
   "metadata": {},
   "outputs": [
    {
     "data": {
      "text/plain": [
       "160611"
      ]
     },
     "execution_count": 8,
     "metadata": {},
     "output_type": "execute_result"
    }
   ],
   "source": [
    "len(word_lines)"
   ]
  },
  {
   "cell_type": "code",
   "execution_count": 185,
   "id": "64455d70-e217-4c4e-b773-63c8b23bc4fd",
   "metadata": {},
   "outputs": [
    {
     "data": {
      "text/html": [
       "<div>\n",
       "<style scoped>\n",
       "    .dataframe tbody tr th:only-of-type {\n",
       "        vertical-align: middle;\n",
       "    }\n",
       "\n",
       "    .dataframe tbody tr th {\n",
       "        vertical-align: top;\n",
       "    }\n",
       "\n",
       "    .dataframe thead th {\n",
       "        text-align: right;\n",
       "    }\n",
       "</style>\n",
       "<table border=\"1\" class=\"dataframe\">\n",
       "  <thead>\n",
       "    <tr style=\"text-align: right;\">\n",
       "      <th></th>\n",
       "      <th>als</th>\n",
       "      <th>de</th>\n",
       "      <th>prob</th>\n",
       "    </tr>\n",
       "  </thead>\n",
       "  <tbody>\n",
       "    <tr>\n",
       "      <th>0</th>\n",
       "      <td>!</td>\n",
       "      <td>!</td>\n",
       "      <td>[1.0, 1.0, 1.0, 1.0, 1.0, 1.0, 1.0, 1.0, 1.0, ...</td>\n",
       "    </tr>\n",
       "    <tr>\n",
       "      <th>1</th>\n",
       "      <td>!</td>\n",
       "      <td>,</td>\n",
       "      <td>[0.9656196236610413, 0.9656196236610413]</td>\n",
       "    </tr>\n",
       "    <tr>\n",
       "      <th>2</th>\n",
       "      <td>!</td>\n",
       "      <td>.</td>\n",
       "      <td>[0.9986563920974731]</td>\n",
       "    </tr>\n",
       "    <tr>\n",
       "      <th>3</th>\n",
       "      <td>!</td>\n",
       "      <td>und</td>\n",
       "      <td>[0.44471311569213867]</td>\n",
       "    </tr>\n",
       "    <tr>\n",
       "      <th>4</th>\n",
       "      <td>\"</td>\n",
       "      <td>!</td>\n",
       "      <td>[0.980839729309082]</td>\n",
       "    </tr>\n",
       "  </tbody>\n",
       "</table>\n",
       "</div>"
      ],
      "text/plain": [
       "  als   de                                               prob\n",
       "0   !    !  [1.0, 1.0, 1.0, 1.0, 1.0, 1.0, 1.0, 1.0, 1.0, ...\n",
       "1   !    ,           [0.9656196236610413, 0.9656196236610413]\n",
       "2   !    .                               [0.9986563920974731]\n",
       "3   !  und                              [0.44471311569213867]\n",
       "4   \"    !                                [0.980839729309082]"
      ]
     },
     "execution_count": 185,
     "metadata": {},
     "output_type": "execute_result"
    }
   ],
   "source": [
    "records = []\n",
    "\n",
    "for words, probs in zip(word_lines, prob_lines):\n",
    "    tokens = [token.split(sep) for token in words.lower().split()]\n",
    "    vals = [float(v) for v in probs.split()]\n",
    "    records += [[i[0][0], i[0][1], i[1]] for i in zip(tokens, vals)]\n",
    "     \n",
    "df = pd.DataFrame.from_records(records, columns = [lang, 'de', 'prob'])\n",
    "df.sort_values(by=\"prob\", inplace=True, ascending = False)\n",
    "df = df.groupby([lang, 'de'])['prob'].apply(list).reset_index(name='prob')"
   ]
  },
  {
   "cell_type": "code",
   "execution_count": 186,
   "id": "2a3c5432-6cb8-45dd-9261-a1f8ba660476",
   "metadata": {},
   "outputs": [
    {
     "name": "stdout",
     "output_type": "stream",
     "text": [
      "534421\n"
     ]
    },
    {
     "name": "stderr",
     "output_type": "stream",
     "text": [
      "100%|███████████████████████████████| 379060/379060 [00:03<00:00, 112678.85it/s]\n"
     ]
    },
    {
     "name": "stdout",
     "output_type": "stream",
     "text": [
      "379060\n"
     ]
    }
   ],
   "source": [
    "print(len(df))\n",
    "same_words_idx = df[df[lang] == df['de']].index\n",
    "df.drop(same_words_idx, axis=0, inplace=True)\n",
    "\n",
    "stop_words_idx = df[df['de'].isin(german_stop_words)].index\n",
    "df.drop(stop_words_idx, axis=0, inplace=True)\n",
    "\n",
    "short_words_idx = df[df[lang].str.len() == 1].index\n",
    "df.drop(short_words_idx, axis=0, inplace=True)\n",
    "\n",
    "short_words_idx = df[df['de'].str.len() == 1].index\n",
    "df.drop(short_words_idx, axis=0, inplace=True)\n",
    "\n",
    "punct_idx = df[df['de'].isin(punct)].index\n",
    "df.drop(punct_idx, axis=0, inplace=True)\n",
    "\n",
    "number_idx = df[df['de'].str.contains('[0-9]+')].index\n",
    "df.drop(number_idx, axis=0, inplace=True)\n",
    "\n",
    "punct_idx = df[df[lang].isin(punct)].index\n",
    "df.drop(punct_idx, axis=0, inplace=True)\n",
    "\n",
    "number_idx = df[df[lang].str.contains('[0-9]+')].index\n",
    "df.drop(number_idx, axis=0, inplace=True)\n",
    "\n",
    "df['nchar'] = df['de'].apply(len)\n",
    "uni_idx = df[df['nchar'] <= 2].index\n",
    "df.drop(uni_idx, axis=0, inplace=True)\n",
    "\n",
    "df['edit_distance'] = df.progress_apply(lambda x: editdistance.eval(x[lang], x['de']), axis=1)\n",
    "\n",
    "df['freq'] = df['prob'].apply(len)\n",
    "df['avg_prob'] = df['prob'].apply(np.mean)\n",
    "df['std_prob'] = df['prob'].apply(np.std)\n",
    "\n",
    "df.reset_index(inplace=True, drop=True)\n",
    "\n",
    "df.to_csv(f'{output_path}/{model_idx}_{lang}.csv', index=None)\n",
    "print(len(df))"
   ]
  }
 ],
 "metadata": {
  "kernelspec": {
   "display_name": "Python [conda env:.conda-banana] *",
   "language": "python",
   "name": "conda-env-.conda-banana-py"
  },
  "language_info": {
   "codemirror_mode": {
    "name": "ipython",
    "version": 3
   },
   "file_extension": ".py",
   "mimetype": "text/x-python",
   "name": "python",
   "nbconvert_exporter": "python",
   "pygments_lexer": "ipython3",
   "version": "3.10.6"
  }
 },
 "nbformat": 4,
 "nbformat_minor": 5
}
